{
  "nbformat": 4,
  "nbformat_minor": 0,
  "metadata": {
    "colab": {
      "name": "Student’s t-Test.ipynb",
      "provenance": []
    },
    "kernelspec": {
      "name": "python3",
      "display_name": "Python 3"
    },
    "language_info": {
      "name": "python"
    }
  },
  "cells": [
    {
      "cell_type": "markdown",
      "metadata": {
        "id": "00WMT4PD9sa2"
      },
      "source": [
        "# **Student’s t-Test**"
      ]
    },
    {
      "cell_type": "code",
      "metadata": {
        "id": "HI0wWRPU7csN"
      },
      "source": [
        "from math import sqrt\n",
        "from numpy.random import seed\n",
        "from numpy.random import randn\n",
        "from numpy import mean\n",
        "from scipy.stats import sem\n",
        "from scipy.stats import t\n",
        "import pandas as pd"
      ],
      "execution_count": 5,
      "outputs": []
    },
    {
      "cell_type": "code",
      "metadata": {
        "id": "V1sqoaPh6yPS"
      },
      "source": [
        "def independent_ttest(data1, data2, alpha):\n",
        "\t# calculate means\n",
        "\tmean1, mean2 = mean(data1), mean(data2)\n",
        "\t# calculate standard errors\n",
        "\tse1, se2 = sem(data1), sem(data2)\n",
        "\t# standard error on the difference between the samples\n",
        "\tsed = sqrt(se1**2.0 + se2**2.0)\n",
        "\t# calculate the t statistic\n",
        "\tt_stat = (mean1 - mean2) / sed\n",
        "\t# degrees of freedom\n",
        "\tdf = len(data1) + len(data2) - 2\n",
        "\t# calculate the critical value\n",
        "\tcv = t.ppf(1.0 - alpha, df)\n",
        "\t# calculate the p-value\n",
        "\tp = (1.0 - t.cdf(abs(t_stat), df)) * 2.0\n",
        "\t# return everything\n",
        "\treturn t_stat, df, cv, p"
      ],
      "execution_count": 6,
      "outputs": []
    },
    {
      "cell_type": "code",
      "metadata": {
        "id": "KJTQlBgZBOaI"
      },
      "source": [
        "def csv_to_dict(filename):\n",
        "  data = pd.read_csv(filename+'.csv')\n",
        "\n",
        "  et = data.loc[(data['Algoritmo']=='ET')]['F1'].values.tolist()\n",
        "  lr = data.loc[(data['Algoritmo']=='LR')]['F1'].values.tolist()\n",
        "  mlp = data.loc[(data['Algoritmo']=='MLP')]['F1'].values.tolist()\n",
        "  mnb = data.loc[(data['Algoritmo']=='MNB')]['F1'].values.tolist()\n",
        "  pa = data.loc[(data['Algoritmo']=='PA')]['F1'].values.tolist()\n",
        "  sgd = data.loc[(data['Algoritmo']=='SGD')]['F1'].values.tolist()\n",
        "  svm = data.loc[(data['Algoritmo']=='SVM')]['F1'].values.tolist()\n",
        "                \n",
        "  return {'ET':et, 'LR':lr, 'MLP':mlp, 'MNB':mnb, 'PA':pa, 'SGD':sgd, 'SVM':svm}"
      ],
      "execution_count": 16,
      "outputs": []
    },
    {
      "cell_type": "code",
      "metadata": {
        "id": "urwteyhsGU4A"
      },
      "source": [
        "origin_dict = csv_to_dict('general_cv_mean(origin)')\n",
        "\n",
        "def generate_hypothesis(values):\n",
        "  # seed the random number generator\n",
        "  seed(1)\n",
        "\n",
        "  algs = ['ET', 'LR', 'MLP', 'MNB', 'PA', 'SGD', 'SVM']\n",
        "\n",
        "  for alg in algs:\n",
        "    data1 = values[alg]\n",
        "    data2 = origin_dict[alg]\n",
        "\n",
        "    print(alg)\n",
        "    # calculate the t test\n",
        "    alpha = 0.05\n",
        "    t_stat, df, cv, p = independent_ttest(data1, data2, alpha)\n",
        "    print('t=%.3f, df=%d, cv=%.3f, p=%.3f' % (t_stat, df, cv, p))\n",
        "    # interpret via critical value\n",
        "    if abs(t_stat) <= cv:\n",
        "      print('Accept null hypothesis that the means are equal.')\n",
        "    else:\n",
        "      print('Reject the null hypothesis that the means are equal.')\n",
        "    # interpret via p-value\n",
        "    if p > alpha:\n",
        "      print('Accept null hypothesis that the means are equal.')\n",
        "    else:\n",
        "      print('Reject the null hypothesis that the means are equal.')"
      ],
      "execution_count": 25,
      "outputs": []
    },
    {
      "cell_type": "markdown",
      "metadata": {
        "id": "FTNoN4hf76L1"
      },
      "source": [
        "### **Tomek Hypothesis**"
      ]
    },
    {
      "cell_type": "code",
      "metadata": {
        "colab": {
          "base_uri": "https://localhost:8080/"
        },
        "id": "679VLQHD7RAF",
        "outputId": "8a01c32f-63af-4970-bd4f-7771d0559b98"
      },
      "source": [
        "tomek_dict = csv_to_dict('general_cv_mean(tomek)')\n",
        "generate_hypothesis(tomek_dict)"
      ],
      "execution_count": 32,
      "outputs": [
        {
          "output_type": "stream",
          "text": [
            "ET\n",
            "t=-1.572, df=12, cv=1.782, p=0.142\n",
            "Accept null hypothesis that the means are equal.\n",
            "Accept null hypothesis that the means are equal.\n",
            "LR\n",
            "t=-2.855, df=12, cv=1.782, p=0.014\n",
            "Reject the null hypothesis that the means are equal.\n",
            "Reject the null hypothesis that the means are equal.\n",
            "MLP\n",
            "t=-2.070, df=12, cv=1.782, p=0.061\n",
            "Reject the null hypothesis that the means are equal.\n",
            "Accept null hypothesis that the means are equal.\n",
            "MNB\n",
            "t=-0.784, df=12, cv=1.782, p=0.448\n",
            "Accept null hypothesis that the means are equal.\n",
            "Accept null hypothesis that the means are equal.\n",
            "PA\n",
            "t=-2.225, df=12, cv=1.782, p=0.046\n",
            "Reject the null hypothesis that the means are equal.\n",
            "Reject the null hypothesis that the means are equal.\n",
            "SGD\n",
            "t=-1.856, df=12, cv=1.782, p=0.088\n",
            "Reject the null hypothesis that the means are equal.\n",
            "Accept null hypothesis that the means are equal.\n",
            "SVM\n",
            "t=-1.402, df=12, cv=1.782, p=0.186\n",
            "Accept null hypothesis that the means are equal.\n",
            "Accept null hypothesis that the means are equal.\n"
          ],
          "name": "stdout"
        }
      ]
    },
    {
      "cell_type": "markdown",
      "metadata": {
        "id": "k-gGHimTG0zg"
      },
      "source": [
        "### **ADASYN Hypothesis**"
      ]
    },
    {
      "cell_type": "code",
      "metadata": {
        "colab": {
          "base_uri": "https://localhost:8080/"
        },
        "id": "0BfzfzxfG0zo",
        "outputId": "5d2aaea0-0245-405f-9224-b33e80a68491"
      },
      "source": [
        "adasyn_dict = csv_to_dict('general_cv_mean(adasyn)')\n",
        "generate_hypothesis(adasyn_dict)"
      ],
      "execution_count": 28,
      "outputs": [
        {
          "output_type": "stream",
          "text": [
            "ET\n",
            "t=6.759, df=12, cv=1.782, p=0.000\n",
            "Reject the null hypothesis that the means are equal.\n",
            "Reject the null hypothesis that the means are equal.\n",
            "LR\n",
            "t=0.253, df=12, cv=1.782, p=0.804\n",
            "Accept null hypothesis that the means are equal.\n",
            "Accept null hypothesis that the means are equal.\n",
            "MLP\n",
            "t=1.414, df=12, cv=1.782, p=0.183\n",
            "Accept null hypothesis that the means are equal.\n",
            "Accept null hypothesis that the means are equal.\n",
            "MNB\n",
            "t=-1.373, df=12, cv=1.782, p=0.195\n",
            "Accept null hypothesis that the means are equal.\n",
            "Accept null hypothesis that the means are equal.\n",
            "PA\n",
            "t=0.425, df=12, cv=1.782, p=0.678\n",
            "Accept null hypothesis that the means are equal.\n",
            "Accept null hypothesis that the means are equal.\n",
            "SGD\n",
            "t=1.905, df=12, cv=1.782, p=0.081\n",
            "Reject the null hypothesis that the means are equal.\n",
            "Accept null hypothesis that the means are equal.\n",
            "SVM\n",
            "t=-2.473, df=12, cv=1.782, p=0.029\n",
            "Reject the null hypothesis that the means are equal.\n",
            "Reject the null hypothesis that the means are equal.\n"
          ],
          "name": "stdout"
        }
      ]
    },
    {
      "cell_type": "markdown",
      "metadata": {
        "id": "e8ympxrqHFQ3"
      },
      "source": [
        "### **SMOTE Hypothesis**"
      ]
    },
    {
      "cell_type": "code",
      "metadata": {
        "colab": {
          "base_uri": "https://localhost:8080/"
        },
        "id": "FVeqqxh1HFQ3",
        "outputId": "0813dfcb-6ae6-4018-acfe-bb4cf64f001f"
      },
      "source": [
        "smote_dict = csv_to_dict('general_cv_mean(smote)')\n",
        "generate_hypothesis(smote_dict)"
      ],
      "execution_count": 29,
      "outputs": [
        {
          "output_type": "stream",
          "text": [
            "ET\n",
            "t=4.146, df=12, cv=1.782, p=0.001\n",
            "Reject the null hypothesis that the means are equal.\n",
            "Reject the null hypothesis that the means are equal.\n",
            "LR\n",
            "t=0.015, df=12, cv=1.782, p=0.989\n",
            "Accept null hypothesis that the means are equal.\n",
            "Accept null hypothesis that the means are equal.\n",
            "MLP\n",
            "t=1.262, df=12, cv=1.782, p=0.231\n",
            "Accept null hypothesis that the means are equal.\n",
            "Accept null hypothesis that the means are equal.\n",
            "MNB\n",
            "t=-1.433, df=12, cv=1.782, p=0.177\n",
            "Accept null hypothesis that the means are equal.\n",
            "Accept null hypothesis that the means are equal.\n",
            "PA\n",
            "t=0.196, df=12, cv=1.782, p=0.848\n",
            "Accept null hypothesis that the means are equal.\n",
            "Accept null hypothesis that the means are equal.\n",
            "SGD\n",
            "t=1.348, df=12, cv=1.782, p=0.203\n",
            "Accept null hypothesis that the means are equal.\n",
            "Accept null hypothesis that the means are equal.\n",
            "SVM\n",
            "t=-3.005, df=12, cv=1.782, p=0.011\n",
            "Reject the null hypothesis that the means are equal.\n",
            "Reject the null hypothesis that the means are equal.\n"
          ],
          "name": "stdout"
        }
      ]
    },
    {
      "cell_type": "markdown",
      "metadata": {
        "id": "l0rX-6_oHSh6"
      },
      "source": [
        "### **BD-SMOTE Hypothesis**"
      ]
    },
    {
      "cell_type": "code",
      "metadata": {
        "colab": {
          "base_uri": "https://localhost:8080/"
        },
        "id": "Fv75UBS2HSh7",
        "outputId": "8e58e8d7-c42c-4bec-c10c-8f733c4c51af"
      },
      "source": [
        "bdsmote_dict = csv_to_dict('general_cv_mean(bdsmote)')\n",
        "generate_hypothesis(bdsmote_dict)"
      ],
      "execution_count": 30,
      "outputs": [
        {
          "output_type": "stream",
          "text": [
            "ET\n",
            "t=4.522, df=12, cv=1.782, p=0.001\n",
            "Reject the null hypothesis that the means are equal.\n",
            "Reject the null hypothesis that the means are equal.\n",
            "LR\n",
            "t=0.253, df=12, cv=1.782, p=0.805\n",
            "Accept null hypothesis that the means are equal.\n",
            "Accept null hypothesis that the means are equal.\n",
            "MLP\n",
            "t=3.320, df=12, cv=1.782, p=0.006\n",
            "Reject the null hypothesis that the means are equal.\n",
            "Reject the null hypothesis that the means are equal.\n",
            "MNB\n",
            "t=-1.370, df=12, cv=1.782, p=0.196\n",
            "Accept null hypothesis that the means are equal.\n",
            "Accept null hypothesis that the means are equal.\n",
            "PA\n",
            "t=0.983, df=12, cv=1.782, p=0.345\n",
            "Accept null hypothesis that the means are equal.\n",
            "Accept null hypothesis that the means are equal.\n",
            "SGD\n",
            "t=1.294, df=12, cv=1.782, p=0.220\n",
            "Accept null hypothesis that the means are equal.\n",
            "Accept null hypothesis that the means are equal.\n",
            "SVM\n",
            "t=-2.057, df=12, cv=1.782, p=0.062\n",
            "Reject the null hypothesis that the means are equal.\n",
            "Accept null hypothesis that the means are equal.\n"
          ],
          "name": "stdout"
        }
      ]
    },
    {
      "cell_type": "markdown",
      "metadata": {
        "id": "eMazqv42HcKp"
      },
      "source": [
        "### **SMOTE-TL Hypothesis**"
      ]
    },
    {
      "cell_type": "code",
      "metadata": {
        "colab": {
          "base_uri": "https://localhost:8080/"
        },
        "id": "_FBSc346HcKr",
        "outputId": "6287e617-25d2-48e7-e5bd-35a295f34a5c"
      },
      "source": [
        "smotetomek_dict = csv_to_dict('general_cv_mean(smotetomek)')\n",
        "generate_hypothesis(smotetomek_dict)"
      ],
      "execution_count": 31,
      "outputs": [
        {
          "output_type": "stream",
          "text": [
            "ET\n",
            "t=4.063, df=12, cv=1.782, p=0.002\n",
            "Reject the null hypothesis that the means are equal.\n",
            "Reject the null hypothesis that the means are equal.\n",
            "LR\n",
            "t=-0.229, df=12, cv=1.782, p=0.823\n",
            "Accept null hypothesis that the means are equal.\n",
            "Accept null hypothesis that the means are equal.\n",
            "MLP\n",
            "t=3.344, df=12, cv=1.782, p=0.006\n",
            "Reject the null hypothesis that the means are equal.\n",
            "Reject the null hypothesis that the means are equal.\n",
            "MNB\n",
            "t=-1.426, df=12, cv=1.782, p=0.179\n",
            "Accept null hypothesis that the means are equal.\n",
            "Accept null hypothesis that the means are equal.\n",
            "PA\n",
            "t=0.804, df=12, cv=1.782, p=0.437\n",
            "Accept null hypothesis that the means are equal.\n",
            "Accept null hypothesis that the means are equal.\n",
            "SGD\n",
            "t=2.027, df=12, cv=1.782, p=0.066\n",
            "Reject the null hypothesis that the means are equal.\n",
            "Accept null hypothesis that the means are equal.\n",
            "SVM\n",
            "t=-1.422, df=12, cv=1.782, p=0.180\n",
            "Accept null hypothesis that the means are equal.\n",
            "Accept null hypothesis that the means are equal.\n"
          ],
          "name": "stdout"
        }
      ]
    },
    {
      "cell_type": "markdown",
      "metadata": {
        "id": "BEb1as2P66g1"
      },
      "source": [
        "## **Referências**"
      ]
    },
    {
      "cell_type": "markdown",
      "metadata": {
        "id": "9Clko2KF68a1"
      },
      "source": [
        "https://machinelearningmastery.com/how-to-code-the-students-t-test-from-scratch-in-python/\n",
        "\n",
        "https://towardsdatascience.com/inferential-statistics-series-t-test-using-numpy-2718f8f9bf2f"
      ]
    }
  ]
}