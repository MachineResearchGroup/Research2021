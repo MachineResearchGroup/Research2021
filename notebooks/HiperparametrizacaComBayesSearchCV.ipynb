{
 "cells": [
  {
   "cell_type": "markdown",
   "metadata": {
    "id": "apDV_XePrIv-"
   },
   "source": [
    "<h1><b>Hiperparametrização com o algoritmo BayesSearchCV</b></h1>\n",
    "<p><b>Classificadores:</b>\n",
    "<ol>\n",
    "  <li>ExtraTree (ET)</li>\n",
    "  <li>Logistic regression (LR)</li>\n",
    "  <li>Multilayer Perceptron (MLP)</li>\n",
    "  <li>Multinomial Naive Bayes (MNB)</li>\n",
    "  <li>Passive Aggressive (PA)</li>\n",
    "  <li>Stochastic Gradient Descent (SGD)</li>\n",
    "  <li>Support Vector Machine (SVM)</li>\n",
    "</ol>\n",
    "<br><b>Base de dados:</b> PROMISE_exp.\n",
    "<br><b>Natureza do problema:</b> Hiperparametrização com validação cruzada, utilizando 11 subclasses de Requisitos Não-Funcionais (RNF) disponíveis na base de dados:</p>\n",
    "<table style=\"text-align:center;\" align=left>\n",
    "    <tr>\n",
    "        <th>Tipo de Requisito:</th>\n",
    "        <th>Classe:</th>\n",
    "        <th>Quantidade:</th>\n",
    "    </tr>\n",
    "    <tr>\n",
    "        <td>Disponibilidade</td>\n",
    "        <td>A</td>\n",
    "        <td>31</td>\n",
    "    </tr>\n",
    "    <tr>\n",
    "        <td>Tolerância à Falha</td>\n",
    "        <td>FT</td>\n",
    "        <td>18</td>\n",
    "    </tr>\n",
    "    <tr>\n",
    "        <td>Legal</td>\n",
    "        <td>L</td>\n",
    "        <td>15</td>\n",
    "    </tr>\n",
    "    <tr>\n",
    "        <td>Aparência</td>\n",
    "        <td>LF</td>\n",
    "        <td>49</td>\n",
    "    </tr>\n",
    "    <tr>\n",
    "        <td>Manutenibilidade</td>\n",
    "        <td>MN</td>\n",
    "        <td>24</td>\n",
    "    </tr>\n",
    "    <tr>\n",
    "        <td>Operacional</td>\n",
    "        <td>O</td>\n",
    "        <td>77</td>\n",
    "    </tr>\n",
    "    <tr>\n",
    "        <td>Performance</td>\n",
    "        <td>PE</td>\n",
    "        <td>67</td>\n",
    "    </tr>\n",
    "    <tr>\n",
    "        <td>Portabilidade</td>\n",
    "        <td>PO</td>\n",
    "        <td>12</td>\n",
    "    </tr>\n",
    "    <tr>\n",
    "        <td>Escalabilidade</td>\n",
    "        <td>SC</td>\n",
    "        <td>22</td>\n",
    "    </tr>\n",
    "    <tr>\n",
    "        <td>Segurança</td>\n",
    "        <td>SE</td>\n",
    "        <td>125</td>\n",
    "    </tr>\n",
    "    <tr>\n",
    "        <td>Usabilidade</td>\n",
    "        <td>US</td>\n",
    "        <td>85</td>\n",
    "    </tr>\n",
    "    <tr>\n",
    "        <td>Total:</td>\n",
    "        <td>11</td>\n",
    "        <td>525</td>\n",
    "    </tr>\n",
    "</table>"
   ]
  },
  {
   "cell_type": "markdown",
   "metadata": {
    "id": "Agxv4NiEBwSk"
   },
   "source": [
    "<h4>Bibliotecas:</h4>"
   ]
  },
  {
   "cell_type": "code",
   "execution_count": 1,
   "metadata": {
    "colab": {
     "base_uri": "https://localhost:8080/"
    },
    "executionInfo": {
     "elapsed": 5092,
     "status": "ok",
     "timestamp": 1623897248356,
     "user": {
      "displayName": "Geovane Miguel",
      "photoUrl": "https://lh3.googleusercontent.com/a-/AOh14GhN45329e3UCDPub1nDIL2Mf32P3lf_bRXiJgpQscE=s64",
      "userId": "18333855345850493321"
     },
     "user_tz": 180
    },
    "id": "tyzm5fgbrIw5",
    "outputId": "45af3a3d-64c3-4190-909a-cbc83788c03b"
   },
   "outputs": [],
   "source": [
    "import csv\n",
    "import warnings\n",
    "import joblib\n",
    "import numpy as np\n",
    "import pandas as pd\n",
    "from skopt import BayesSearchCV\n",
    "from sklearn.svm import SVC as SVM\n",
    "from scipy.sparse.csr import csr_matrix\n",
    "from sklearn.metrics import recall_score\n",
    "from sklearn.metrics import accuracy_score\n",
    "from sklearn.preprocessing import LabelEncoder\n",
    "from sklearn.model_selection import ShuffleSplit\n",
    "from skopt.space import Real, Categorical, Integer\n",
    "from sklearn.naive_bayes import MultinomialNB as MNB\n",
    "from sklearn.linear_model import SGDClassifier as SGD\n",
    "from sklearn.neural_network import MLPClassifier as MLP\n",
    "from sklearn.ensemble import ExtraTreesClassifier as ET\n",
    "from sklearn.linear_model import LogisticRegression as LR\n",
    "from sklearn.linear_model import PassiveAggressiveClassifier as PA"
   ]
  },
  {
   "cell_type": "markdown",
   "metadata": {
    "id": "E5x80qvBrIxM"
   },
   "source": [
    "<h3>Parâmetros e classificadores</h3>"
   ]
  },
  {
   "cell_type": "code",
   "execution_count": 2,
   "metadata": {
    "executionInfo": {
     "elapsed": 265,
     "status": "ok",
     "timestamp": 1623897466906,
     "user": {
      "displayName": "Geovane Miguel",
      "photoUrl": "https://lh3.googleusercontent.com/a-/AOh14GhN45329e3UCDPub1nDIL2Mf32P3lf_bRXiJgpQscE=s64",
      "userId": "18333855345850493321"
     },
     "user_tz": 180
    },
    "id": "MVXWIdYtBwSq"
   },
   "outputs": [],
   "source": [
    "Clf_Prt = {}\n",
    "NomeClf = {}"
   ]
  },
  {
   "cell_type": "markdown",
   "metadata": {
    "id": "XARH8d7aBwSr"
   },
   "source": [
    "<h4>ExtraTree (ET)</h4>"
   ]
  },
  {
   "cell_type": "code",
   "execution_count": 3,
   "metadata": {
    "executionInfo": {
     "elapsed": 52,
     "status": "ok",
     "timestamp": 1623897275045,
     "user": {
      "displayName": "Geovane Miguel",
      "photoUrl": "https://lh3.googleusercontent.com/a-/AOh14GhN45329e3UCDPub1nDIL2Mf32P3lf_bRXiJgpQscE=s64",
      "userId": "18333855345850493321"
     },
     "user_tz": 180
    },
    "id": "IHDuN0ynBwSs"
   },
   "outputs": [],
   "source": [
    "parametros = {}\n",
    "parametros['n_estimators'] = Integer(150, 1100)\n",
    "parametros['criterion'] = Categorical(['gini', 'entropy'])\n",
    "parametros['max_depth'] = Integer(20, 120)\n",
    "parametros['min_samples_split'] = Integer(2,20)\n",
    "parametros['min_samples_leaf'] = [1]\n",
    "parametros['max_features'] = Categorical(['auto', 'sqrt', 'log2'])\n",
    "parametros['max_leaf_nodes'] = Integer(50, 150)\n",
    "parametros['warm_start'] = [True, False]\n",
    "parametros['max_samples'] = Real(0.01, 0.9)\n",
    "Clf_Prt[ET()] = parametros\n",
    "NomeClf[ET().__class__.__name__] = 'ET'"
   ]
  },
  {
   "cell_type": "markdown",
   "metadata": {
    "id": "khBFXGuPBwSv"
   },
   "source": [
    "<h4>Logistic regression (LR)</h4>"
   ]
  },
  {
   "cell_type": "code",
   "execution_count": 4,
   "metadata": {
    "executionInfo": {
     "elapsed": 49,
     "status": "ok",
     "timestamp": 1623897275046,
     "user": {
      "displayName": "Geovane Miguel",
      "photoUrl": "https://lh3.googleusercontent.com/a-/AOh14GhN45329e3UCDPub1nDIL2Mf32P3lf_bRXiJgpQscE=s64",
      "userId": "18333855345850493321"
     },
     "user_tz": 180
    },
    "id": "gWBu0oMUBwSw"
   },
   "outputs": [],
   "source": [
    "parametros = {}\n",
    "parametros['penalty'] = Categorical(['none'])\n",
    "parametros['tol'] = Real(1e-5, 1e-3)\n",
    "parametros['C'] = Real(1e-1, 1.2)\n",
    "parametros['fit_intercept'] = [True, False]\n",
    "parametros['intercept_scaling'] = Real(1e-3, 1e3)\n",
    "parametros['solver'] = Categorical(['newton-cg', 'lbfgs', 'sag'])\n",
    "parametros['max_iter'] = Integer(20, 1000)\n",
    "parametros['multi_class'] = Categorical(['auto', 'ovr'])\n",
    "parametros['warm_start'] = [True, False]\n",
    "parametros['n_jobs'] = [-1]\n",
    "parametros['l1_ratio'] = Real(0, 1)\n",
    "Clf_Prt[LR()] = parametros\n",
    "NomeClf[LR().__class__.__name__] = 'LR'"
   ]
  },
  {
   "cell_type": "markdown",
   "metadata": {
    "id": "oByprfbqcDUg"
   },
   "source": [
    "<h4>Multi-layer Perceptron (MLP)</h4>"
   ]
  },
  {
   "cell_type": "code",
   "execution_count": 5,
   "metadata": {
    "executionInfo": {
     "elapsed": 49,
     "status": "ok",
     "timestamp": 1623897275048,
     "user": {
      "displayName": "Geovane Miguel",
      "photoUrl": "https://lh3.googleusercontent.com/a-/AOh14GhN45329e3UCDPub1nDIL2Mf32P3lf_bRXiJgpQscE=s64",
      "userId": "18333855345850493321"
     },
     "user_tz": 180
    },
    "id": "e3HEst91cDUg"
   },
   "outputs": [],
   "source": [
    "parametros = {}\n",
    "parametros['hidden_layer_sizes'] = Integer(20, 250)\n",
    "parametros['activation'] = Categorical(['tanh', 'relu'])\n",
    "parametros['solver'] = Categorical(['adam'])\n",
    "parametros['batch_size'] = Integer(32, 480)\n",
    "parametros['learning_rate_init'] = Real(1e-3, 0.1)\n",
    "parametros['validation_fraction'] = [0.1, 0.2]\n",
    "parametros['n_iter_no_change'] = [5, 10]\n",
    "parametros['early_stopping'] = [True]\n",
    "parametros['max_iter'] = Integer(20, 500)\n",
    "parametros['tol'] = Real(1e-5, 1e-3)\n",
    "parametros['warm_start'] = [True, False]\n",
    "Clf_Prt[MLP()] = parametros\n",
    "NomeClf[MLP().__class__.__name__] = 'MLP'"
   ]
  },
  {
   "cell_type": "markdown",
   "metadata": {},
   "source": [
    "<h4>Multinomial Naive Bayes (MNB)</h4>"
   ]
  },
  {
   "cell_type": "code",
   "execution_count": 6,
   "metadata": {},
   "outputs": [],
   "source": [
    "parametros = {}\n",
    "parametros['alpha'] = Real(1e-3, 1e3)\n",
    "parametros['fit_prior'] = [True, False]\n",
    "Clf_Prt[MNB()] = parametros\n",
    "NomeClf[MNB().__class__.__name__] = 'MNB'"
   ]
  },
  {
   "cell_type": "markdown",
   "metadata": {
    "id": "EbgMeyxCnfxi"
   },
   "source": [
    "<h4>Passive Aggressive (PA)</h4>"
   ]
  },
  {
   "cell_type": "code",
   "execution_count": 7,
   "metadata": {
    "executionInfo": {
     "elapsed": 50,
     "status": "ok",
     "timestamp": 1623897275051,
     "user": {
      "displayName": "Geovane Miguel",
      "photoUrl": "https://lh3.googleusercontent.com/a-/AOh14GhN45329e3UCDPub1nDIL2Mf32P3lf_bRXiJgpQscE=s64",
      "userId": "18333855345850493321"
     },
     "user_tz": 180
    },
    "id": "v1D7-vW_ndhC"
   },
   "outputs": [],
   "source": [
    "parametros = {}\n",
    "parametros['tol'] = Real(1e-5, 1e-3)\n",
    "parametros['C'] = Real(1e-1, 1.2)\n",
    "parametros['fit_intercept'] = [True, False]\n",
    "parametros['max_iter'] = Integer(20, 1000)\n",
    "parametros['early_stopping'] = [True]\n",
    "parametros['validation_fraction'] = [0.1, 0.2]\n",
    "parametros['n_iter_no_change'] = [5, 10]\n",
    "parametros['loss'] = ['hinge', 'squared_hinge']\n",
    "parametros['warm_start'] =[True, False]\n",
    "parametros['n_jobs'] = [-1]\n",
    "Clf_Prt[PA()] = parametros\n",
    "NomeClf[PA().__class__.__name__] = 'PA'"
   ]
  },
  {
   "cell_type": "markdown",
   "metadata": {
    "id": "NnQQzFvOBwS1"
   },
   "source": [
    "<h4>Stochastic Gradient Descent (SGD)</h4>"
   ]
  },
  {
   "cell_type": "code",
   "execution_count": 8,
   "metadata": {
    "executionInfo": {
     "elapsed": 49,
     "status": "ok",
     "timestamp": 1623897275055,
     "user": {
      "displayName": "Geovane Miguel",
      "photoUrl": "https://lh3.googleusercontent.com/a-/AOh14GhN45329e3UCDPub1nDIL2Mf32P3lf_bRXiJgpQscE=s64",
      "userId": "18333855345850493321"
     },
     "user_tz": 180
    },
    "id": "oiKdkJLIBwS2"
   },
   "outputs": [],
   "source": [
    "parametros = {}\n",
    "parametros['loss'] = Categorical(['hinge', 'log', 'modified_huber', 'squared_hinge', 'perceptron'])\n",
    "parametros['penalty'] = Categorical(['l1', 'l2', 'elasticnet'])\n",
    "parametros['alpha'] = Real(1e-4, 1e-2)\n",
    "parametros['l1_ratio'] = Real(0, 1)\n",
    "parametros['fit_intercept'] = [True, False]\n",
    "parametros['max_iter'] = Integer(20, 1000)\n",
    "parametros['tol'] = Real(1e-5, 1e-3)\n",
    "parametros['shuffle'] = [True, False]\n",
    "parametros['epsilon'] = Real(1e-2, 1) \n",
    "parametros['n_jobs'] = [-1]\n",
    "parametros['learning_rate'] = Categorical(['optimal', 'invscaling', 'adaptive'])\n",
    "parametros['eta0'] = Real(1e-2, 1e1)\n",
    "parametros['power_t'] = Real(0, 0.1)\n",
    "parametros['early_stopping'] = [True]\n",
    "parametros['validation_fraction'] = [0.1, 0.2]\n",
    "parametros['n_iter_no_change'] = [5, 10]\n",
    "parametros['warm_start'] = [True, False]\n",
    "parametros['average'] = [True, False]\n",
    "Clf_Prt[SGD()] = parametros\n",
    "NomeClf[SGD().__class__.__name__] = 'SGD'"
   ]
  },
  {
   "cell_type": "markdown",
   "metadata": {
    "id": "z5qaHlRoBwS2"
   },
   "source": [
    "<h4>Support Vector Machine (SVM)</h4>"
   ]
  },
  {
   "cell_type": "code",
   "execution_count": 9,
   "metadata": {
    "executionInfo": {
     "elapsed": 283,
     "status": "ok",
     "timestamp": 1623897473067,
     "user": {
      "displayName": "Geovane Miguel",
      "photoUrl": "https://lh3.googleusercontent.com/a-/AOh14GhN45329e3UCDPub1nDIL2Mf32P3lf_bRXiJgpQscE=s64",
      "userId": "18333855345850493321"
     },
     "user_tz": 180
    },
    "id": "TRYFPES8rIxN"
   },
   "outputs": [],
   "source": [
    "parametros = {}\n",
    "parametros['C'] = Real(1e-1, 1e1)\n",
    "parametros['kernel'] = Categorical(['linear', 'rbf'])\n",
    "parametros['gamma'] = Categorical(['scale', 'auto'])\n",
    "parametros['shrinking'] = [True, False]\n",
    "parametros['probability'] = [True, False]\n",
    "parametros['tol'] = Real(1e-5, 1e-3)\n",
    "parametros['cache_size'] = [500]\n",
    "parametros['decision_function_shape'] = Categorical(['ovo', 'ovr'])\n",
    "Clf_Prt[SVM()] = parametros\n",
    "NomeClf[SVM().__class__.__name__] = 'SVM'"
   ]
  },
  {
   "cell_type": "markdown",
   "metadata": {
    "id": "x4Ze7PI6VJp_"
   },
   "source": [
    "<h4>Time Monitoring</h4>"
   ]
  },
  {
   "cell_type": "code",
   "execution_count": 10,
   "metadata": {
    "executionInfo": {
     "elapsed": 268,
     "status": "ok",
     "timestamp": 1623897479850,
     "user": {
      "displayName": "Geovane Miguel",
      "photoUrl": "https://lh3.googleusercontent.com/a-/AOh14GhN45329e3UCDPub1nDIL2Mf32P3lf_bRXiJgpQscE=s64",
      "userId": "18333855345850493321"
     },
     "user_tz": 180
    },
    "id": "w0xfNWQ1VJp_"
   },
   "outputs": [],
   "source": [
    "class timeTool():\n",
    "    import time\n",
    "    iniTime = 0.0\n",
    "    finalTime = 0.0\n",
    "    totalTime = '00h00m00s'\n",
    "    endDataTime = 'Date Hour year'\n",
    "    initDataTime = 'Date Hour year'\n",
    "    def init(self):\n",
    "        self.iniTime = self.time.time()\n",
    "        self.initDataTime = self.time.ctime()\n",
    "    def end(self):\n",
    "        self.finalTime = self.time.time()\n",
    "        self.endDataTime = self.time.ctime()\n",
    "        hour = 0 \n",
    "        minute = 0 \n",
    "        second = 0\n",
    "        value = self.finalTime - self.iniTime\n",
    "        if value >= 3600:\n",
    "            hour = int(value/3600)\n",
    "            helper = value%3600\n",
    "            if helper >= 60:\n",
    "                minute = int(helper/60)\n",
    "                second = int(helper%60)\n",
    "            else:\n",
    "                second = int(helper)\n",
    "            self.totalTime = '{0}h:{1}m:{2}s'.format(hour, minute, second)\n",
    "        elif value >= 60:\n",
    "            minute = int(value/60)\n",
    "            second = int(value%60)\n",
    "            self.totalTime = '{0}h:{1}m:{2}s'.format(hour, minute, second)\n",
    "        else:\n",
    "            second = int(value)\n",
    "            self.totalTime = '{0}h:{1}m:{2}s'.format(hour, minute, second)\n",
    "    def getExecuTime(self):\n",
    "        return self.totalTime\n",
    "    def getInDateTime(self):\n",
    "        return self.initDataTime\n",
    "    def getEnDataTime(self):\n",
    "        return self.endDataTime"
   ]
  },
  {
   "cell_type": "markdown",
   "metadata": {
    "id": "B1xlh5LZBwS3",
    "outputId": "1e42045b-1061-471e-9775-1ad87f440197"
   },
   "source": [
    "<h3>Hiperparametrização:</h3>"
   ]
  },
  {
   "cell_type": "code",
   "execution_count": 11,
   "metadata": {
    "executionInfo": {
     "elapsed": 59,
     "status": "ok",
     "timestamp": 1623897483886,
     "user": {
      "displayName": "Geovane Miguel",
      "photoUrl": "https://lh3.googleusercontent.com/a-/AOh14GhN45329e3UCDPub1nDIL2Mf32P3lf_bRXiJgpQscE=s64",
      "userId": "18333855345850493321"
     },
     "user_tz": 180
    },
    "id": "7Apyk34bkiyr"
   },
   "outputs": [],
   "source": [
    "resamplings = ['origin', 'tomek', 'adasyn', 'smote', 'bdsmote', 'smotetomek']"
   ]
  },
  {
   "cell_type": "code",
   "execution_count": 12,
   "metadata": {
    "executionInfo": {
     "elapsed": 409,
     "status": "ok",
     "timestamp": 1623897485592,
     "user": {
      "displayName": "Geovane Miguel",
      "photoUrl": "https://lh3.googleusercontent.com/a-/AOh14GhN45329e3UCDPub1nDIL2Mf32P3lf_bRXiJgpQscE=s64",
      "userId": "18333855345850493321"
     },
     "user_tz": 180
    },
    "id": "QcV5kKX-kdGM"
   },
   "outputs": [],
   "source": [
    "def load_sparse_csr(filename):\n",
    "    loader = np.load(filename)\n",
    "    return csr_matrix((loader['data'], loader['indices'], loader['indptr']), shape=loader['shape'])\n",
    "\n",
    "\n",
    "def get_data(resampling, n_intr, n_data):\n",
    "    train_tfidf = load_sparse_csr('../../results/datasets/data_'+str(n_intr)+'/train/'+resampling + '_train(' + str(n_data) + ').npz')\n",
    "    train_class = pd.read_csv('../../results/datasets/data_'+str(n_intr)+'/train/'+resampling + '_train(' + str(n_data) + ').csv')\n",
    "\n",
    "    return train_tfidf, train_class"
   ]
  },
  {
   "cell_type": "code",
   "execution_count": null,
   "metadata": {
    "colab": {
     "base_uri": "https://localhost:8080/"
    },
    "id": "oui4bEJxBwS3",
    "outputId": "13d97478-47de-490a-fe45-bd5f28aa947b"
   },
   "outputs": [],
   "source": [
    "iterations = 10\n",
    "folds = 6\n",
    "n_splits = 6\n",
    "n_iter = 150\n",
    "for i in range(1, 2):\n",
    "    for j in range(2, folds):\n",
    "        print(\"\\nInteration \"+str(i+1), \"Dobra \"+str(j+1))\n",
    "        for resample in resamplings:\n",
    "\n",
    "            X_Tokens, train_class = get_data(resample, i+1, j+1)\n",
    "            y_Class = np.array(train_class['Class'])\n",
    "            warnings.filterwarnings('ignore')\n",
    "\n",
    "            cv = ShuffleSplit(n_splits=n_splits, test_size=0.2)\n",
    "\n",
    "            for classificador in Clf_Prt:\n",
    "                modelName = classificador.__class__.__name__\n",
    "                timeT = timeTool()\n",
    "                timeT.init()\n",
    "                print('\\nStart of the ' + modelName + ' algorithm with ' + resample + ' at ' + timeT.getInDateTime())\n",
    "                modelo = BayesSearchCV(estimator=classificador, search_spaces=Clf_Prt[classificador], \n",
    "                                       n_iter=n_iter, scoring='f1_macro', cv=cv, refit=True, return_train_score=False, n_jobs=3, n_points=3, pre_dispatch=3)\n",
    "\n",
    "                modelo.fit(X_Tokens, y_Class)\n",
    "                timeT.end()\n",
    "\n",
    "                #Salvando modelo\n",
    "                clf = modelo.best_estimator_\n",
    "                filename = '../../results/hyperparametrization/models/data_'+str(i+1)+'/'+resample+'/'+clf.__class__.__name__+'('+str(j+1)+').joblib.pkl'\n",
    "                _ = joblib.dump(clf, filename, compress=9)\n",
    "\n",
    "                #Tratamento dos resultados:\n",
    "                dt = pd.DataFrame(modelo.cv_results_)\n",
    "                linhas = {'Algorithm': NomeClf[modelName],\n",
    "                          'DataSample': resample+'_'+str(j+1), \n",
    "                          'n_inter': modelo.n_iter, 'n_div': modelo.n_splits_, 'Initial Date/Hour': timeT.getInDateTime(), \n",
    "                          'Final Date/Hour': timeT.getEnDataTime(), 'Execution time': timeT.getExecuTime(),\n",
    "                          'f1-score Macro': '{:.0%}'.format(modelo.best_score_), 'Params': modelo.best_params_}\n",
    "                path = '../../results/hyperparametrization/data_'+str(i+1)+'/'+resample+'/hypeResults'+modelo.__class__.__name__+'('+NomeClf[modelName] +').csv'\n",
    "                try:\n",
    "                    open(path, 'r')\n",
    "                    with open(path, 'a') as arq:\n",
    "                        writer = csv.writer(arq)\n",
    "                        writer.writerow(linhas.values())\n",
    "                except IOError:\n",
    "                    dataF = pd.DataFrame(columns=linhas.keys())\n",
    "                    dataF = dataF.append(linhas, ignore_index=True)\n",
    "                    dataF.to_csv(path, index=False)\n",
    "                print('End of the ' + modelName + ' algorithm with ' + resample + ' at ' + timeT.getInDateTime() + '\\nTotal run time: ' + timeT.getExecuTime())\n",
    "\n",
    "                "
   ]
  }
 ],
 "metadata": {
  "colab": {
   "collapsed_sections": [],
   "name": "HiperparametrizacaComBayesSearchCV (1).ipynb",
   "provenance": []
  },
  "kernelspec": {
   "display_name": "Python 3",
   "language": "python",
   "name": "python3"
  },
  "language_info": {
   "codemirror_mode": {
    "name": "ipython",
    "version": 3
   },
   "file_extension": ".py",
   "mimetype": "text/x-python",
   "name": "python",
   "nbconvert_exporter": "python",
   "pygments_lexer": "ipython3",
   "version": "3.8.8"
  }
 },
 "nbformat": 4,
 "nbformat_minor": 4
}
