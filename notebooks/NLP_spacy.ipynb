{
  "nbformat": 4,
  "nbformat_minor": 0,
  "metadata": {
    "colab": {
      "name": "NLP_spacy.ipynb",
      "provenance": []
    },
    "kernelspec": {
      "name": "python3",
      "display_name": "Python 3"
    },
    "language_info": {
      "name": "python"
    }
  },
  "cells": [
    {
      "cell_type": "markdown",
      "metadata": {
        "id": "2Qd70LvGOTQL"
      },
      "source": [
        "# Libraries"
      ]
    },
    {
      "cell_type": "code",
      "metadata": {
        "id": "WYiMU7SPXLsy"
      },
      "source": [
        "import pandas as pd\n",
        "from bs4 import BeautifulSoup\n",
        "import spacy\n",
        "!pip install unidecode\n",
        "import unidecode\n",
        "!pip install word2number\n",
        "from word2number import w2n\n",
        "!pip install contractions\n",
        "import contractions\n",
        "nlp = spacy.load('en_core_web_sm')"
      ],
      "execution_count": null,
      "outputs": []
    },
    {
      "cell_type": "markdown",
      "metadata": {
        "id": "aQgMJfIjxlYm"
      },
      "source": [
        "# Dataset"
      ]
    },
    {
      "cell_type": "code",
      "metadata": {
        "id": "xCTz-rLkwgDZ"
      },
      "source": [
        "data = pd.read_csv('PROMISE_exp.csv')\n",
        "data.drop(data[data.Class=='F'].index,inplace=True)"
      ],
      "execution_count": 36,
      "outputs": []
    },
    {
      "cell_type": "code",
      "metadata": {
        "colab": {
          "base_uri": "https://localhost:8080/"
        },
        "id": "qkVTRuq4APHZ",
        "outputId": "3704bde6-8560-412d-a4d6-fea6186ee124"
      },
      "source": [
        "print(data.shape, data['Class'].nunique())"
      ],
      "execution_count": 37,
      "outputs": [
        {
          "output_type": "stream",
          "text": [
            "(525, 3) 11\n"
          ],
          "name": "stdout"
        }
      ]
    },
    {
      "cell_type": "code",
      "metadata": {
        "colab": {
          "base_uri": "https://localhost:8080/",
          "height": 302
        },
        "id": "L1HA2EscAS-L",
        "outputId": "7c368a7c-44f5-4829-a7f1-9163e3499f37"
      },
      "source": [
        "categ_feature_list = list(data.columns)\n",
        "target = data.groupby('Class')['Class'].count()\n",
        "target.plot.bar()"
      ],
      "execution_count": 38,
      "outputs": [
        {
          "output_type": "execute_result",
          "data": {
            "text/plain": [
              "<matplotlib.axes._subplots.AxesSubplot at 0x7f89341ef210>"
            ]
          },
          "metadata": {
            "tags": []
          },
          "execution_count": 38
        },
        {
          "output_type": "display_data",
          "data": {
            "image/png": "[encoded data removed]",
            "text/plain": [
              "<Figure size 432x288 with 1 Axes>"
            ]
          },
          "metadata": {
            "tags": [],
            "needs_background": "light"
          }
        }
      ]
    },
    {
      "cell_type": "code",
      "metadata": {
        "colab": {
          "base_uri": "https://localhost:8080/"
        },
        "id": "EXmm-2_IZXBM",
        "outputId": "411579c4-9811-4fc0-efe6-26915555e019"
      },
      "source": [
        "print(\"Number of Requirements per class:\")\n",
        "data['Class'].value_counts()"
      ],
      "execution_count": 39,
      "outputs": [
        {
          "output_type": "stream",
          "text": [
            "Number of Requirements per class:\n"
          ],
          "name": "stdout"
        },
        {
          "output_type": "execute_result",
          "data": {
            "text/plain": [
              "SE    125\n",
              "US     85\n",
              "O      77\n",
              "PE     67\n",
              "LF     49\n",
              "A      31\n",
              "MN     24\n",
              "SC     22\n",
              "FT     18\n",
              "L      15\n",
              "PO     12\n",
              "Name: Class, dtype: int64"
            ]
          },
          "metadata": {
            "tags": []
          },
          "execution_count": 39
        }
      ]
    },
    {
      "cell_type": "markdown",
      "metadata": {
        "id": "TTx7Ct34XTtY"
      },
      "source": [
        "# Preprocessing"
      ]
    },
    {
      "cell_type": "code",
      "metadata": {
        "id": "uL224xoBXVRh"
      },
      "source": [
        "# exclude words from spacy stopwords list\n",
        "deselect_stop_words = ['no', 'not']\n",
        "for w in deselect_stop_words:\n",
        "    nlp.vocab[w].is_stop = False\n",
        "\n",
        "def remove_whitespace(text):\n",
        "    \"\"\"remove extra whitespaces from text\"\"\"\n",
        "    text = text.strip()\n",
        "    return \" \".join(text.split())\n",
        "\n",
        "\n",
        "def remove_accented_chars(text):\n",
        "    \"\"\"remove accented characters from text, e.g. café\"\"\"\n",
        "    text = unidecode.unidecode(text)\n",
        "    return text\n",
        "\n",
        "\n",
        "def expand_contractions(text):\n",
        "    \"\"\"expand shortened words, e.g. don't to do not\"\"\"\n",
        "    text = contractions.fix(text)\n",
        "    return text\n",
        "\n",
        "def remove_percentage_and_dash(text):\n",
        "    text = text.replace('%', \" \")\n",
        "    text = text.replace('-', \" \")\n",
        "    return text\n",
        "\n",
        "def text_preprocessing(text, accented_chars=True, contractions=True, \n",
        "                       convert_num=True, extra_whitespace=True, \n",
        "                       lemmatization=True, lowercase=True, punctuations=True,\n",
        "                       remove_num=True, special_chars=True, \n",
        "                       stop_words=True):\n",
        "    \"\"\"preprocess text with default option set to true for all steps\"\"\"\n",
        "    if extra_whitespace == True: #remove extra whitespaces\n",
        "        text = remove_whitespace(text)\n",
        "    if accented_chars == True: #remove accented characters\n",
        "        text = remove_accented_chars(text)\n",
        "        text = remove_percentage_and_dash(text)\n",
        "    if contractions == True: #expand contractions\n",
        "        text = expand_contractions(text)\n",
        "    if lowercase == True: #convert all characters to lowercase\n",
        "        text = text.lower()\n",
        "\n",
        "    doc = nlp(text) #tokenise text\n",
        "\n",
        "    clean_text = []\n",
        "    \n",
        "    for token in doc:\n",
        "        flag = True\n",
        "        edit = token.text\n",
        "        # remove stop words\n",
        "        if stop_words == True and token.is_stop and token.pos_ != 'NUM': \n",
        "            flag = False\n",
        "        # remove punctuations\n",
        "        if punctuations == True and token.pos_ == 'PUNCT' and flag == True: \n",
        "            flag = False\n",
        "        # remove special characters\n",
        "        if special_chars == True and token.pos_ == 'SYM' and flag == True: \n",
        "            flag = False\n",
        "        # remove numbers\n",
        "        if remove_num == True and (token.pos_ == 'NUM' or token.text.isnumeric()) \\\n",
        "        and flag == True:\n",
        "            flag = False\n",
        "        # convert number words to numeric numbers\n",
        "        if convert_num == True and token.pos_ == 'NUM' and flag == True:\n",
        "            edit = w2n.word_to_num(token.text)\n",
        "        # convert tokens to base form\n",
        "        elif lemmatization == True and token.lemma_ != \"-PRON-\" and flag == True:\n",
        "            edit = token.lemma_\n",
        "        # append tokens edited and not removed to list \n",
        "        if edit != \"\" and flag == True:\n",
        "            clean_text.append(edit)        \n",
        "    return clean_text"
      ],
      "execution_count": 40,
      "outputs": []
    },
    {
      "cell_type": "code",
      "metadata": {
        "id": "qcADAWH5Y7iv"
      },
      "source": [
        "data['RequirementText'] = data['RequirementText'].apply(lambda x: str(text_preprocessing(x)))"
      ],
      "execution_count": 41,
      "outputs": []
    },
    {
      "cell_type": "code",
      "metadata": {
        "id": "1ZDqR5H3Spl0"
      },
      "source": [
        "def remove_empty(text):\n",
        "  text = text.replace('\\' \\', ', '')\n",
        "  return text"
      ],
      "execution_count": 48,
      "outputs": []
    },
    {
      "cell_type": "code",
      "metadata": {
        "id": "bXOKdwslRs90"
      },
      "source": [
        "data['RequirementText'] = data['RequirementText'].apply(lambda x: str(remove_empty(x)))"
      ],
      "execution_count": 52,
      "outputs": []
    },
    {
      "cell_type": "code",
      "metadata": {
        "colab": {
          "base_uri": "https://localhost:8080/"
        },
        "id": "6NIO1mxHZNEP",
        "outputId": "b4c16b50-5461-4769-8349-7e4b024997e1"
      },
      "source": [
        "print(data)"
      ],
      "execution_count": 53,
      "outputs": [
        {
          "output_type": "stream",
          "text": [
            "     ProjectID                                    RequirementText Class\n",
            "161        104  ['dispute', 'application', 'shall', 'ensure', ...    SE\n",
            "603        114  ['application', 'shall', 'ask', 'user', 'confi...    US\n",
            "578        113  ['system', 'interface', 'use', 'ccr', 'nomencl...    LF\n",
            "160        104  ['dispute', 'application', 'shall', 'interface...     O\n",
            "31         102  ['product', 'shall', 'consistent', 'color', 's...    LF\n",
            "..         ...                                                ...   ...\n",
            "156        104  ['dispute', 'application', 'shall', 'interface...     O\n",
            "281        106  ['product', 'shall', 'conservative', 'professi...    LF\n",
            "722        131  ['detailed', 'documentation', 'code', 'srs', '...    MN\n",
            "399        108  ['credit', 'card', 'information', 'secure', 's...    SE\n",
            "441        108  ['website', 'use', 'flash', 'provide', 'animat...     O\n",
            "\n",
            "[525 rows x 3 columns]\n"
          ],
          "name": "stdout"
        }
      ]
    },
    {
      "cell_type": "code",
      "metadata": {
        "id": "pE-2kHp0ZJon"
      },
      "source": [
        "# exporting the dataset\n",
        "data.to_csv(\"PROMISE_exp_preprocessed.csv\")"
      ],
      "execution_count": 54,
      "outputs": []
    }
  ]
}